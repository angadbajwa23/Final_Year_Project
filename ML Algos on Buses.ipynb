{
 "cells": [
  {
   "cell_type": "code",
   "execution_count": null,
   "metadata": {},
   "outputs": [],
   "source": [
    "import pandas as pd\n",
    "import xlrd\n",
    "import openpyxl\n",
    "import numpy as np\n",
    "from sklearn import datasets\n",
    "from sklearn.cluster import KMeans\n",
    "from sklearn.utils import shuffle\n",
    "from sklearn import metrics\n",
    "from sklearn.model_selection import train_test_split \n",
    "from sklearn.metrics import classification_report\n",
    "from sklearn.metrics import confusion_matrix, ConfusionMatrixDisplay\n",
    "import matplotlib.pyplot as plt"
   ]
  },
  {
   "cell_type": "code",
   "execution_count": null,
   "metadata": {},
   "outputs": [],
   "source": [
    "#Reading the training data\n",
    "df = pd.read_excel(r\"C:\\Users\\Angad Bajwa\\Downloads\\Combined Final Data With Condition.xlsx\", sheet_name=list(range(12)))\n",
    "y = list()\n",
    "#Dropping Time and Condition(shouldn't be known to ML Model) Columns\n",
    "for i in range(12):\n",
    "    y.append(df[i]['Condition'])\n",
    "    df[i].drop(['Time', 'Condition'], axis=1, inplace=True)\n",
    "    df[i] = df[i].round(4)\n",
    "    df[i].dropna()"
   ]
  },
  {
   "cell_type": "markdown",
   "metadata": {},
   "source": [
    "On Bus D"
   ]
  },
  {
   "cell_type": "code",
   "execution_count": null,
   "metadata": {
    "scrolled": true
   },
   "outputs": [],
   "source": [
    "df_trial = df[5].append(df[6], ignore_index=True)\n",
    "y_trial = y[5].append(y[6], ignore_index=True)\n",
    "X_train, X_test, y_train, y_test = train_test_split(df_trial, y_trial, stratify=y_trial, test_size=0.2)\n",
    "print(y_train.value_counts()),print(y_test.value_counts())\n",
    "model = KMeans(n_clusters = 3)\n",
    "model.fit(shuffle(X_train))\n",
    "predicted_label = model.predict(X_test)\n",
    "y_pred=predicted_label\n",
    "# Model Accuracy: how often is the classifier correct?\n",
    "print(\"Accuracy:\",metrics.accuracy_score(y_test, y_pred))\n",
    "target_names = ['class 0', 'class 1', 'class 2']\n",
    "print(classification_report(y_test, y_pred, target_names=target_names))\n",
    "cm=confusion_matrix(y_test, y_pred)\n",
    "\n",
    "disp = ConfusionMatrixDisplay(confusion_matrix=cm)\n",
    "disp.plot()\n",
    "plt.show()\n",
    "print(\"-----------------------------------------------------------------------------------------------------------------------\")"
   ]
  },
  {
   "cell_type": "markdown",
   "metadata": {},
   "source": [
    "-------------------------------------------------------------------------------------------------------------------------------"
   ]
  },
  {
   "cell_type": "markdown",
   "metadata": {},
   "source": [
    "On Bus E"
   ]
  },
  {
   "cell_type": "code",
   "execution_count": null,
   "metadata": {
    "collapsed": true
   },
   "outputs": [],
   "source": [
    "df_trial = df[1].append(df[2], ignore_index=True)\n",
    "y_trial = y[1].append(y[2], ignore_index=True)\n",
    "X_train, X_test, y_train, y_test = train_test_split(df_trial, y_trial, stratify=y_trial, test_size=0.2)\n",
    "print(y_train.value_counts()),print(y_test.value_counts())\n",
    "model = KMeans(n_clusters = 3)\n",
    "model.fit(shuffle(X_train))\n",
    "predicted_label = model.predict(X_test)\n",
    "y_pred=predicted_label\n",
    "# Model Accuracy: how often is the classifier correct?\n",
    "print(\"Accuracy:\",metrics.accuracy_score(y_test, y_pred))\n",
    "target_names = ['class 0', 'class 1', 'class 2']\n",
    "print(classification_report(y_test, y_pred, target_names=target_names))\n",
    "cm=confusion_matrix(y_test, y_pred)\n",
    "\n",
    "disp = ConfusionMatrixDisplay(confusion_matrix=cm)\n",
    "disp.plot()\n",
    "plt.show()\n",
    "print(\"-----------------------------------------------------------------------------------------------------------------------\")"
   ]
  },
  {
   "cell_type": "markdown",
   "metadata": {},
   "source": [
    "On Bus F"
   ]
  },
  {
   "cell_type": "code",
   "execution_count": null,
   "metadata": {
    "scrolled": true
   },
   "outputs": [],
   "source": [
    "df_trial = df[7].append(df[8], ignore_index=True)\n",
    "y_trial = y[7].append(y[8], ignore_index=True)\n",
    "X_train, X_test, y_train, y_test = train_test_split(df_trial, y_trial, stratify=y_trial, test_size=0.2)\n",
    "print(y_train.value_counts()),print(y_test.value_counts())\n",
    "model = KMeans(n_clusters = 3)\n",
    "model.fit(shuffle(X_train))\n",
    "predicted_label = model.predict(X_test)\n",
    "y_pred=predicted_label\n",
    "# Model Accuracy: how often is the classifier correct?\n",
    "print(\"Accuracy:\",metrics.accuracy_score(y_test, y_pred))\n",
    "target_names = ['class 0', 'class 1', 'class 2']\n",
    "print(classification_report(y_test, y_pred, target_names=target_names))\n",
    "cm=confusion_matrix(y_test, y_pred)\n",
    "\n",
    "disp = ConfusionMatrixDisplay(confusion_matrix=cm)\n",
    "disp.plot()\n",
    "plt.show()\n",
    "print(\"-----------------------------------------------------------------------------------------------------------------------\")"
   ]
  },
  {
   "cell_type": "markdown",
   "metadata": {},
   "source": [
    "On Bus A"
   ]
  },
  {
   "cell_type": "code",
   "execution_count": null,
   "metadata": {
    "scrolled": true
   },
   "outputs": [],
   "source": [
    "df_trial = df[10].append(df[11], ignore_index=True)\n",
    "y_trial = y[10].append(y[11], ignore_index=True)\n",
    "X_train, X_test, y_train, y_test = train_test_split(df_trial, y_trial, stratify=y_trial, test_size=0.2)\n",
    "print(y_train.value_counts()),print(y_test.value_counts())\n",
    "model = KMeans(n_clusters = 3)\n",
    "model.fit(shuffle(X_train))\n",
    "predicted_label = model.predict(X_test)\n",
    "y_pred=predicted_label\n",
    "# Model Accuracy: how often is the classifier correct?\n",
    "print(\"Accuracy:\",metrics.accuracy_score(y_test, y_pred))\n",
    "target_names = ['class 0', 'class 1', 'class 2']\n",
    "print(classification_report(y_test, y_pred, target_names=target_names))\n",
    "cm=confusion_matrix(y_test, y_pred)\n",
    "\n",
    "disp = ConfusionMatrixDisplay(confusion_matrix=cm)\n",
    "disp.plot()\n",
    "plt.show()\n",
    "print(\"-----------------------------------------------------------------------------------------------------------------------\")"
   ]
  },
  {
   "cell_type": "markdown",
   "metadata": {},
   "source": [
    "On Bus B"
   ]
  },
  {
   "cell_type": "code",
   "execution_count": null,
   "metadata": {
    "collapsed": true
   },
   "outputs": [],
   "source": [
    "df_trial = df[3].append(df[4], ignore_index=True)\n",
    "y_trial = y[3].append(y[4], ignore_index=True)\n",
    "X_train, X_test, y_train, y_test = train_test_split(df_trial, y_trial, stratify=y_trial, test_size=0.2)\n",
    "print(y_train.value_counts()),print(y_test.value_counts())\n",
    "model = KMeans(n_clusters = 3)\n",
    "model.fit(shuffle(X_train))\n",
    "predicted_label = model.predict(X_test)\n",
    "y_pred=predicted_label\n",
    "# Model Accuracy: how often is the classifier correct?\n",
    "print(\"Accuracy:\",metrics.accuracy_score(y_test, y_pred))\n",
    "target_names = ['class 0', 'class 1', 'class 2']\n",
    "print(classification_report(y_test, y_pred, target_names=target_names))\n",
    "cm=confusion_matrix(y_test, y_pred)\n",
    "\n",
    "disp = ConfusionMatrixDisplay(confusion_matrix=cm)\n",
    "disp.plot()\n",
    "plt.show()\n",
    "print(\"-----------------------------------------------------------------------------------------------------------------------\")"
   ]
  },
  {
   "cell_type": "code",
   "execution_count": null,
   "metadata": {},
   "outputs": [],
   "source": []
  },
  {
   "cell_type": "code",
   "execution_count": null,
   "metadata": {},
   "outputs": [],
   "source": []
  },
  {
   "cell_type": "code",
   "execution_count": null,
   "metadata": {},
   "outputs": [],
   "source": []
  },
  {
   "cell_type": "markdown",
   "metadata": {},
   "source": [
    "RANDOM FOREST CLASSIFIER "
   ]
  },
  {
   "cell_type": "markdown",
   "metadata": {},
   "source": [
    "LINE A"
   ]
  },
  {
   "cell_type": "code",
   "execution_count": null,
   "metadata": {
    "scrolled": true
   },
   "outputs": [],
   "source": [
    "from sklearn.ensemble import RandomForestClassifier\n",
    "df_trial = df[10].append(df[11], ignore_index=True)\n",
    "y_trial = y[10].append(y[11], ignore_index=True)\n",
    "X_train, X_test, y_train, y_test = train_test_split(df_trial, y_trial, stratify=y_trial, test_size=0.2)\n",
    "print(y_train.value_counts()),print(y_test.value_counts())\n",
    "\n",
    "clf = RandomForestClassifier(max_depth=30, random_state=0)\n",
    "clf.fit(X_train, y_train)\n",
    "\n",
    "predicted_label = clf.predict(X_test)\n",
    "y_pred=predicted_label\n",
    "# Model Accuracy: how often is the classifier correct?\n",
    "print(\"Accuracy:\",metrics.accuracy_score(y_test, y_pred))\n",
    "target_names = ['class 0', 'class 1', 'class 2']\n",
    "print(classification_report(y_test, y_pred, target_names=target_names))\n",
    "cm=confusion_matrix(y_test, y_pred)\n",
    "\n",
    "disp = ConfusionMatrixDisplay(confusion_matrix=cm)\n",
    "disp.plot()\n",
    "plt.show()\n",
    "print(\"-----------------------------------------------------------------------------------------------------------------------\")\n"
   ]
  },
  {
   "cell_type": "markdown",
   "metadata": {},
   "source": [
    "LINE B"
   ]
  },
  {
   "cell_type": "code",
   "execution_count": null,
   "metadata": {
    "scrolled": true
   },
   "outputs": [],
   "source": [
    "from sklearn.ensemble import RandomForestClassifier\n",
    "df_trial = df[3].append(df[4], ignore_index=True)\n",
    "y_trial = y[3].append(y[4], ignore_index=True)\n",
    "X_train, X_test, y_train, y_test = train_test_split(df_trial, y_trial, stratify=y_trial, test_size=0.2)\n",
    "print(y_train.value_counts()),print(y_test.value_counts())\n",
    "\n",
    "clf = RandomForestClassifier(max_depth=30, random_state=0)\n",
    "clf.fit(X_train, y_train)\n",
    "\n",
    "predicted_label = clf.predict(X_test)\n",
    "y_pred=predicted_label\n",
    "# Model Accuracy: how often is the classifier correct?\n",
    "print(\"Accuracy:\",metrics.accuracy_score(y_test, y_pred))\n",
    "target_names = ['class 0', 'class 1', 'class 2']\n",
    "print(classification_report(y_test, y_pred, target_names=target_names))\n",
    "cm=confusion_matrix(y_test, y_pred)\n",
    "\n",
    "disp = ConfusionMatrixDisplay(confusion_matrix=cm)\n",
    "disp.plot()\n",
    "plt.show()\n",
    "print(\"-----------------------------------------------------------------------------------------------------------------------\")\n"
   ]
  },
  {
   "cell_type": "markdown",
   "metadata": {},
   "source": [
    "LINE C"
   ]
  },
  {
   "cell_type": "code",
   "execution_count": null,
   "metadata": {
    "collapsed": true
   },
   "outputs": [],
   "source": [
    "df_trial = df[0].append(df[9], ignore_index=True)\n",
    "y_trial = y[0].append(y[9], ignore_index=True)\n",
    "X_train, X_test, y_train, y_test = train_test_split(df_trial, y_trial, stratify=y_trial, test_size=0.2)\n",
    "print(y_train.value_counts()),print(y_test.value_counts())"
   ]
  },
  {
   "cell_type": "code",
   "execution_count": null,
   "metadata": {},
   "outputs": [],
   "source": [
    "from sklearn.ensemble import RandomForestClassifier"
   ]
  },
  {
   "cell_type": "code",
   "execution_count": null,
   "metadata": {},
   "outputs": [],
   "source": [
    "clf = RandomForestClassifier(max_depth=30, random_state=0)\n",
    "clf.fit(X_train, y_train)"
   ]
  },
  {
   "cell_type": "code",
   "execution_count": null,
   "metadata": {
    "collapsed": true
   },
   "outputs": [],
   "source": [
    "predicted_label = clf.predict(X_test)\n",
    "y_pred=predicted_label\n",
    "# Model Accuracy: how often is the classifier correct?\n",
    "print(\"Accuracy:\",metrics.accuracy_score(y_test, y_pred))\n",
    "target_names = ['class 0', 'class 1', 'class 2']\n",
    "print(classification_report(y_test, y_pred, target_names=target_names))\n",
    "cm=confusion_matrix(y_test, y_pred)\n",
    "\n",
    "disp = ConfusionMatrixDisplay(confusion_matrix=cm)\n",
    "disp.plot()\n",
    "plt.show()\n",
    "print(\"-----------------------------------------------------------------------------------------------------------------------\")"
   ]
  },
  {
   "cell_type": "markdown",
   "metadata": {},
   "source": [
    "LINE D"
   ]
  },
  {
   "cell_type": "code",
   "execution_count": null,
   "metadata": {
    "scrolled": true
   },
   "outputs": [],
   "source": [
    "from sklearn.ensemble import RandomForestClassifier\n",
    "df_trial = df[5].append(df[6], ignore_index=True)\n",
    "y_trial = y[5].append(y[6], ignore_index=True)\n",
    "X_train, X_test, y_train, y_test = train_test_split(df_trial, y_trial, stratify=y_trial, test_size=0.2)\n",
    "print(y_train.value_counts()),print(y_test.value_counts())\n",
    "\n",
    "clf = RandomForestClassifier(max_depth=30, random_state=0)\n",
    "clf.fit(X_train, y_train)\n",
    "\n",
    "predicted_label = clf.predict(X_test)\n",
    "y_pred=predicted_label\n",
    "# Model Accuracy: how often is the classifier correct?\n",
    "print(\"Accuracy:\",metrics.accuracy_score(y_test, y_pred))\n",
    "target_names = ['class 0', 'class 1', 'class 2']\n",
    "print(classification_report(y_test, y_pred, target_names=target_names))\n",
    "cm=confusion_matrix(y_test, y_pred)\n",
    "\n",
    "disp = ConfusionMatrixDisplay(confusion_matrix=cm)\n",
    "disp.plot()\n",
    "plt.show()\n",
    "print(\"-----------------------------------------------------------------------------------------------------------------------\")\n"
   ]
  },
  {
   "cell_type": "markdown",
   "metadata": {},
   "source": [
    "LINE E"
   ]
  },
  {
   "cell_type": "code",
   "execution_count": null,
   "metadata": {
    "scrolled": true
   },
   "outputs": [],
   "source": [
    "from sklearn.ensemble import RandomForestClassifier\n",
    "df_trial = df[1].append(df[2], ignore_index=True)\n",
    "y_trial = y[1].append(y[2], ignore_index=True)\n",
    "X_train, X_test, y_train, y_test = train_test_split(df_trial, y_trial, stratify=y_trial, test_size=0.2)\n",
    "print(y_train.value_counts()),print(y_test.value_counts())\n",
    "\n",
    "clf = RandomForestClassifier(max_depth=30, random_state=0)\n",
    "clf.fit(X_train, y_train)\n",
    "\n",
    "predicted_label = clf.predict(X_test)\n",
    "y_pred=predicted_label\n",
    "# Model Accuracy: how often is the classifier correct?\n",
    "print(\"Accuracy:\",metrics.accuracy_score(y_test, y_pred))\n",
    "target_names = ['class 0', 'class 1', 'class 2']\n",
    "print(classification_report(y_test, y_pred, target_names=target_names))\n",
    "cm=confusion_matrix(y_test, y_pred)\n",
    "\n",
    "disp = ConfusionMatrixDisplay(confusion_matrix=cm)\n",
    "disp.plot()\n",
    "plt.show()\n",
    "print(\"-----------------------------------------------------------------------------------------------------------------------\")\n"
   ]
  },
  {
   "cell_type": "markdown",
   "metadata": {},
   "source": [
    "LINE F"
   ]
  },
  {
   "cell_type": "code",
   "execution_count": null,
   "metadata": {
    "scrolled": true
   },
   "outputs": [],
   "source": [
    "from sklearn.ensemble import RandomForestClassifier\n",
    "df_trial = df[7].append(df[8], ignore_index=True)\n",
    "y_trial = y[7].append(y[8], ignore_index=True)\n",
    "X_train, X_test, y_train, y_test = train_test_split(df_trial, y_trial, stratify=y_trial, test_size=0.2)\n",
    "print(y_train.value_counts()),print(y_test.value_counts())\n",
    "\n",
    "clf = RandomForestClassifier(max_depth=30, random_state=0)\n",
    "clf.fit(X_train, y_train)\n",
    "\n",
    "predicted_label = clf.predict(X_test)\n",
    "y_pred=predicted_label\n",
    "# Model Accuracy: how often is the classifier correct?\n",
    "print(\"Accuracy:\",metrics.accuracy_score(y_test, y_pred))\n",
    "target_names = ['class 0', 'class 1', 'class 2']\n",
    "print(classification_report(y_test, y_pred, target_names=target_names))\n",
    "cm=confusion_matrix(y_test, y_pred)\n",
    "\n",
    "disp = ConfusionMatrixDisplay(confusion_matrix=cm)\n",
    "disp.plot()\n",
    "plt.show()\n",
    "print(\"-----------------------------------------------------------------------------------------------------------------------\")\n"
   ]
  },
  {
   "cell_type": "code",
   "execution_count": null,
   "metadata": {},
   "outputs": [],
   "source": []
  },
  {
   "cell_type": "markdown",
   "metadata": {},
   "source": [
    "Using Decision Tree"
   ]
  },
  {
   "cell_type": "markdown",
   "metadata": {},
   "source": [
    "LINE A"
   ]
  },
  {
   "cell_type": "code",
   "execution_count": null,
   "metadata": {
    "scrolled": true
   },
   "outputs": [],
   "source": [
    "from sklearn.tree import DecisionTreeClassifier\n",
    "clf = DecisionTreeClassifier()\n",
    "\n",
    "df_trial = df[10].append(df[11], ignore_index=True)\n",
    "y_trial = y[10].append(y[11], ignore_index=True)\n",
    "X_train, X_test, y_train, y_test = train_test_split(df_trial, y_trial, stratify=y_trial, test_size=0.2)\n",
    "print(y_train.value_counts()),print(y_test.value_counts())\n",
    "\n",
    "# Train Decision Tree Classifer\n",
    "clf = clf.fit(X_train,y_train)\n",
    "predicted_label = clf.predict(X_test)\n",
    "y_pred=predicted_label\n",
    "# Model Accuracy: how often is the classifier correct?\n",
    "print(\"Accuracy:\",metrics.accuracy_score(y_test, y_pred))\n",
    "target_names = ['class 0', 'class 1', 'class 2']\n",
    "print(classification_report(y_test, y_pred, target_names=target_names))\n",
    "cm=confusion_matrix(y_test, y_pred)\n",
    "\n",
    "disp = ConfusionMatrixDisplay(confusion_matrix=cm)\n",
    "disp.plot()\n",
    "plt.show()\n",
    "print(\"-----------------------------------------------------------------------------------------------------------------------\")"
   ]
  },
  {
   "cell_type": "markdown",
   "metadata": {},
   "source": [
    "LINE B"
   ]
  },
  {
   "cell_type": "code",
   "execution_count": null,
   "metadata": {
    "collapsed": true
   },
   "outputs": [],
   "source": [
    "from sklearn.tree import DecisionTreeClassifier\n",
    "clf = DecisionTreeClassifier()\n",
    "\n",
    "df_trial = df[3].append(df[4], ignore_index=True)\n",
    "y_trial = y[3].append(y[4], ignore_index=True)\n",
    "X_train, X_test, y_train, y_test = train_test_split(df_trial, y_trial, stratify=y_trial, test_size=0.2)\n",
    "print(y_train.value_counts()),print(y_test.value_counts())\n",
    "\n",
    "# Train Decision Tree Classifer\n",
    "clf = clf.fit(X_train,y_train)\n",
    "predicted_label = clf.predict(X_test)\n",
    "y_pred=predicted_label\n",
    "# Model Accuracy: how often is the classifier correct?\n",
    "print(\"Accuracy:\",metrics.accuracy_score(y_test, y_pred))\n",
    "target_names = ['class 0', 'class 1', 'class 2']\n",
    "print(classification_report(y_test, y_pred, target_names=target_names))\n",
    "cm=confusion_matrix(y_test, y_pred)\n",
    "\n",
    "disp = ConfusionMatrixDisplay(confusion_matrix=cm)\n",
    "disp.plot()\n",
    "plt.show()\n",
    "print(\"-----------------------------------------------------------------------------------------------------------------------\")"
   ]
  },
  {
   "cell_type": "markdown",
   "metadata": {},
   "source": [
    "LINE C"
   ]
  },
  {
   "cell_type": "code",
   "execution_count": null,
   "metadata": {
    "scrolled": true
   },
   "outputs": [],
   "source": [
    "from sklearn.tree import DecisionTreeClassifier\n",
    "clf = DecisionTreeClassifier()\n",
    "\n",
    "# Train Decision Tree Classifer\n",
    "clf = clf.fit(X_train,y_train)\n",
    "predicted_label = clf.predict(X_test)\n",
    "y_pred=predicted_label\n",
    "# Model Accuracy: how often is the classifier correct?\n",
    "print(\"Accuracy:\",metrics.accuracy_score(y_test, y_pred))\n",
    "target_names = ['class 0', 'class 1', 'class 2']\n",
    "print(classification_report(y_test, y_pred, target_names=target_names))\n",
    "cm=confusion_matrix(y_test, y_pred)\n",
    "\n",
    "disp = ConfusionMatrixDisplay(confusion_matrix=cm)\n",
    "disp.plot()\n",
    "plt.show()\n",
    "print(\"-----------------------------------------------------------------------------------------------------------------------\")"
   ]
  },
  {
   "cell_type": "markdown",
   "metadata": {},
   "source": [
    "LINE D"
   ]
  },
  {
   "cell_type": "code",
   "execution_count": null,
   "metadata": {
    "collapsed": true
   },
   "outputs": [],
   "source": [
    "from sklearn.tree import DecisionTreeClassifier\n",
    "clf = DecisionTreeClassifier()\n",
    "\n",
    "df_trial = df[5].append(df[6], ignore_index=True)\n",
    "y_trial = y[5].append(y[6], ignore_index=True)\n",
    "X_train, X_test, y_train, y_test = train_test_split(df_trial, y_trial, stratify=y_trial, test_size=0.2)\n",
    "print(y_train.value_counts()),print(y_test.value_counts())\n",
    "\n",
    "# Train Decision Tree Classifer\n",
    "clf = clf.fit(X_train,y_train)\n",
    "predicted_label = clf.predict(X_test)\n",
    "y_pred=predicted_label\n",
    "# Model Accuracy: how often is the classifier correct?\n",
    "print(\"Accuracy:\",metrics.accuracy_score(y_test, y_pred))\n",
    "target_names = ['class 0', 'class 1', 'class 2']\n",
    "print(classification_report(y_test, y_pred, target_names=target_names))\n",
    "cm=confusion_matrix(y_test, y_pred)\n",
    "\n",
    "disp = ConfusionMatrixDisplay(confusion_matrix=cm)\n",
    "disp.plot()\n",
    "plt.show()\n",
    "print(\"-----------------------------------------------------------------------------------------------------------------------\")"
   ]
  },
  {
   "cell_type": "markdown",
   "metadata": {},
   "source": [
    "LINE E"
   ]
  },
  {
   "cell_type": "code",
   "execution_count": null,
   "metadata": {
    "collapsed": true
   },
   "outputs": [],
   "source": [
    "from sklearn.tree import DecisionTreeClassifier\n",
    "clf = DecisionTreeClassifier()\n",
    "\n",
    "df_trial = df[1].append(df[2], ignore_index=True)\n",
    "y_trial = y[1].append(y[2], ignore_index=True)\n",
    "X_train, X_test, y_train, y_test = train_test_split(df_trial, y_trial, stratify=y_trial, test_size=0.2)\n",
    "print(y_train.value_counts()),print(y_test.value_counts())\n",
    "\n",
    "# Train Decision Tree Classifer\n",
    "clf = clf.fit(X_train,y_train)\n",
    "predicted_label = clf.predict(X_test)\n",
    "y_pred=predicted_label\n",
    "# Model Accuracy: how often is the classifier correct?\n",
    "print(\"Accuracy:\",metrics.accuracy_score(y_test, y_pred))\n",
    "target_names = ['class 0', 'class 1', 'class 2']\n",
    "print(classification_report(y_test, y_pred, target_names=target_names))\n",
    "cm=confusion_matrix(y_test, y_pred)\n",
    "\n",
    "disp = ConfusionMatrixDisplay(confusion_matrix=cm)\n",
    "disp.plot()\n",
    "plt.show()\n",
    "print(\"-----------------------------------------------------------------------------------------------------------------------\")"
   ]
  },
  {
   "cell_type": "markdown",
   "metadata": {},
   "source": [
    "LINE F"
   ]
  },
  {
   "cell_type": "code",
   "execution_count": null,
   "metadata": {
    "collapsed": true
   },
   "outputs": [],
   "source": [
    "from sklearn.tree import DecisionTreeClassifier\n",
    "clf = DecisionTreeClassifier()\n",
    "\n",
    "df_trial = df[7].append(df[8], ignore_index=True)\n",
    "y_trial = y[7].append(y[8], ignore_index=True)\n",
    "X_train, X_test, y_train, y_test = train_test_split(df_trial, y_trial, stratify=y_trial, test_size=0.2)\n",
    "print(y_train.value_counts()),print(y_test.value_counts())\n",
    "\n",
    "# Train Decision Tree Classifer\n",
    "clf = clf.fit(X_train,y_train)\n",
    "predicted_label = clf.predict(X_test)\n",
    "y_pred=predicted_label\n",
    "# Model Accuracy: how often is the classifier correct?\n",
    "print(\"Accuracy:\",metrics.accuracy_score(y_test, y_pred))\n",
    "target_names = ['class 0', 'class 1', 'class 2']\n",
    "print(classification_report(y_test, y_pred, target_names=target_names))\n",
    "cm=confusion_matrix(y_test, y_pred)\n",
    "\n",
    "disp = ConfusionMatrixDisplay(confusion_matrix=cm)\n",
    "disp.plot()\n",
    "plt.show()\n",
    "print(\"-----------------------------------------------------------------------------------------------------------------------\")"
   ]
  },
  {
   "cell_type": "code",
   "execution_count": null,
   "metadata": {},
   "outputs": [],
   "source": []
  },
  {
   "cell_type": "markdown",
   "metadata": {},
   "source": [
    "Using SVM"
   ]
  },
  {
   "cell_type": "code",
   "execution_count": null,
   "metadata": {},
   "outputs": [],
   "source": [
    "from sklearn import svm\n",
    "\n",
    "#Create a svm Classifier\n",
    "clf = svm.SVC(kernel='linear') # Linear Kernel\n",
    "\n",
    "#Train the model using the training sets\n",
    "clf.fit(X_train, y_train)\n",
    "predicted_label = clf.predict(X_test)\n",
    "y_pred=predicted_label\n",
    "# Model Accuracy: how often is the classifier correct?\n",
    "print(\"Accuracy:\",metrics.accuracy_score(y_test, y_pred))\n",
    "target_names = ['class 0', 'class 1', 'class 2']\n",
    "print(classification_report(y_test, y_pred, target_names=target_names))\n",
    "cm=confusion_matrix(y_test, y_pred)\n",
    "\n",
    "disp = ConfusionMatrixDisplay(confusion_matrix=cm)\n",
    "disp.plot()\n",
    "plt.show()\n",
    "print(\"-----------------------------------------------------------------------------------------------------------------------\")"
   ]
  },
  {
   "cell_type": "code",
   "execution_count": null,
   "metadata": {},
   "outputs": [],
   "source": []
  }
 ],
 "metadata": {
  "kernelspec": {
   "display_name": "Python 3",
   "language": "python",
   "name": "python3"
  },
  "language_info": {
   "codemirror_mode": {
    "name": "ipython",
    "version": 3
   },
   "file_extension": ".py",
   "mimetype": "text/x-python",
   "name": "python",
   "nbconvert_exporter": "python",
   "pygments_lexer": "ipython3",
   "version": "3.7.4"
  }
 },
 "nbformat": 4,
 "nbformat_minor": 2
}
